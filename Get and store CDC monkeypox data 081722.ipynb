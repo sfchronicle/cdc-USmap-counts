{
 "cells": [
  {
   "cell_type": "code",
   "execution_count": 1,
   "id": "8de2eaa9",
   "metadata": {},
   "outputs": [],
   "source": [
    "import pandas as pd"
   ]
  },
  {
   "cell_type": "code",
   "execution_count": 2,
   "id": "585ccc9a",
   "metadata": {},
   "outputs": [],
   "source": [
    "# set URL \n",
    "url = \"https://www.cdc.gov/wcms/vizdata/poxvirus/monkeypox/data/USmap_counts.csv\""
   ]
  },
  {
   "cell_type": "code",
   "execution_count": 3,
   "id": "bd7f9f6e",
   "metadata": {},
   "outputs": [],
   "source": [
    "# read CSV\n",
    "df = pd.read_csv(url)"
   ]
  },
  {
   "cell_type": "code",
   "execution_count": 4,
   "id": "c3c489d9",
   "metadata": {},
   "outputs": [
    {
     "data": {
      "text/html": [
       "<div>\n",
       "<style scoped>\n",
       "    .dataframe tbody tr th:only-of-type {\n",
       "        vertical-align: middle;\n",
       "    }\n",
       "\n",
       "    .dataframe tbody tr th {\n",
       "        vertical-align: top;\n",
       "    }\n",
       "\n",
       "    .dataframe thead th {\n",
       "        text-align: right;\n",
       "    }\n",
       "</style>\n",
       "<table border=\"1\" class=\"dataframe\">\n",
       "  <thead>\n",
       "    <tr style=\"text-align: right;\">\n",
       "      <th></th>\n",
       "      <th>Location</th>\n",
       "      <th>Cases</th>\n",
       "      <th>Case Range</th>\n",
       "      <th>AsOf</th>\n",
       "    </tr>\n",
       "  </thead>\n",
       "  <tbody>\n",
       "    <tr>\n",
       "      <th>0</th>\n",
       "      <td>Alabama</td>\n",
       "      <td>30</td>\n",
       "      <td>11 to 50</td>\n",
       "      <td>Data as of 16 Aug 2022 2:00 PM EDT</td>\n",
       "    </tr>\n",
       "    <tr>\n",
       "      <th>1</th>\n",
       "      <td>Alaska</td>\n",
       "      <td>2</td>\n",
       "      <td>1 to 10</td>\n",
       "      <td>Data as of 16 Aug 2022 2:00 PM EDT</td>\n",
       "    </tr>\n",
       "    <tr>\n",
       "      <th>2</th>\n",
       "      <td>Arizona</td>\n",
       "      <td>205</td>\n",
       "      <td>101 to 500</td>\n",
       "      <td>Data as of 16 Aug 2022 2:00 PM EDT</td>\n",
       "    </tr>\n",
       "    <tr>\n",
       "      <th>3</th>\n",
       "      <td>Arkansas</td>\n",
       "      <td>20</td>\n",
       "      <td>11 to 50</td>\n",
       "      <td>Data as of 16 Aug 2022 2:00 PM EDT</td>\n",
       "    </tr>\n",
       "    <tr>\n",
       "      <th>4</th>\n",
       "      <td>California</td>\n",
       "      <td>1945</td>\n",
       "      <td>&gt;500</td>\n",
       "      <td>Data as of 16 Aug 2022 2:00 PM EDT</td>\n",
       "    </tr>\n",
       "  </tbody>\n",
       "</table>\n",
       "</div>"
      ],
      "text/plain": [
       "     Location  Cases  Case Range                                AsOf\n",
       "0     Alabama     30    11 to 50  Data as of 16 Aug 2022 2:00 PM EDT\n",
       "1      Alaska      2     1 to 10  Data as of 16 Aug 2022 2:00 PM EDT\n",
       "2     Arizona    205  101 to 500  Data as of 16 Aug 2022 2:00 PM EDT\n",
       "3    Arkansas     20    11 to 50  Data as of 16 Aug 2022 2:00 PM EDT\n",
       "4  California   1945        >500  Data as of 16 Aug 2022 2:00 PM EDT"
      ]
     },
     "execution_count": 4,
     "metadata": {},
     "output_type": "execute_result"
    }
   ],
   "source": [
    "df.head()"
   ]
  },
  {
   "cell_type": "code",
   "execution_count": 8,
   "id": "3dcc8386",
   "metadata": {},
   "outputs": [],
   "source": [
    "# save data to data folder\n",
    "df.to_csv('./data/USmap_counts.csv')"
   ]
  },
  {
   "cell_type": "code",
   "execution_count": null,
   "id": "d5c9b64f",
   "metadata": {},
   "outputs": [],
   "source": []
  }
 ],
 "metadata": {
  "kernelspec": {
   "display_name": "Python 3",
   "language": "python",
   "name": "python3"
  },
  "language_info": {
   "codemirror_mode": {
    "name": "ipython",
    "version": 3
   },
   "file_extension": ".py",
   "mimetype": "text/x-python",
   "name": "python",
   "nbconvert_exporter": "python",
   "pygments_lexer": "ipython3",
   "version": "3.8.8"
  }
 },
 "nbformat": 4,
 "nbformat_minor": 5
}
